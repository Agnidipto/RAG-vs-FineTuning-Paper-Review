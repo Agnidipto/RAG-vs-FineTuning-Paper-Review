{
 "cells": [
  {
   "cell_type": "code",
   "execution_count": 1,
   "id": "49c2e9ae-7f99-40bf-b9b0-c41ea4d2588b",
   "metadata": {},
   "outputs": [
    {
     "name": "stderr",
     "output_type": "stream",
     "text": [
      "c:\\Work Modules\\UIC_US\\MS\\NLP\\Paper Review\\env\\Lib\\site-packages\\tqdm\\auto.py:21: TqdmWarning: IProgress not found. Please update jupyter and ipywidgets. See https://ipywidgets.readthedocs.io/en/stable/user_install.html\n",
      "  from .autonotebook import tqdm as notebook_tqdm\n"
     ]
    }
   ],
   "source": [
    "from datasets import load_dataset\n",
    "import pandas as pd"
   ]
  },
  {
   "cell_type": "code",
   "execution_count": 2,
   "id": "ca859b5c-ad19-48e5-9bae-0e751d2a0b14",
   "metadata": {},
   "outputs": [],
   "source": [
    "mmlu_dataset = load_dataset(\"cais/mmlu\", 'all')"
   ]
  },
  {
   "cell_type": "code",
   "execution_count": 3,
   "id": "738d5c35-9e70-4225-ad63-87b453590a0c",
   "metadata": {},
   "outputs": [
    {
     "data": {
      "text/plain": [
       "{'test': ['question', 'subject', 'choices', 'answer'],\n",
       " 'validation': ['question', 'subject', 'choices', 'answer'],\n",
       " 'dev': ['question', 'subject', 'choices', 'answer'],\n",
       " 'auxiliary_train': ['question', 'subject', 'choices', 'answer']}"
      ]
     },
     "execution_count": 3,
     "metadata": {},
     "output_type": "execute_result"
    }
   ],
   "source": [
    "mmlu_dataset.column_names"
   ]
  },
  {
   "cell_type": "code",
   "execution_count": 9,
   "id": "563848cf",
   "metadata": {},
   "outputs": [
    {
     "data": {
      "text/plain": [
       "((99842, 4), (1531, 4), (14042, 4))"
      ]
     },
     "execution_count": 9,
     "metadata": {},
     "output_type": "execute_result"
    }
   ],
   "source": [
    "auxiliary_train = mmlu_dataset['auxiliary_train'].to_pandas()\n",
    "validation = mmlu_dataset['validation'].to_pandas()\n",
    "test = mmlu_dataset['test'].to_pandas()\n",
    "\n",
    "auxiliary_train.shape, validation.shape, test.shape"
   ]
  },
  {
   "cell_type": "code",
   "execution_count": 12,
   "id": "65193feb",
   "metadata": {},
   "outputs": [
    {
     "data": {
      "text/plain": [
       "Index(['question', 'subject', 'choices', 'answer'], dtype='object')"
      ]
     },
     "execution_count": 12,
     "metadata": {},
     "output_type": "execute_result"
    }
   ],
   "source": [
    "auxiliary_train.columns"
   ]
  },
  {
   "cell_type": "code",
   "execution_count": 16,
   "id": "c4b3d0a0",
   "metadata": {},
   "outputs": [
    {
     "data": {
      "text/html": [
       "<div>\n",
       "<style scoped>\n",
       "    .dataframe tbody tr th:only-of-type {\n",
       "        vertical-align: middle;\n",
       "    }\n",
       "\n",
       "    .dataframe tbody tr th {\n",
       "        vertical-align: top;\n",
       "    }\n",
       "\n",
       "    .dataframe thead th {\n",
       "        text-align: right;\n",
       "    }\n",
       "</style>\n",
       "<table border=\"1\" class=\"dataframe\">\n",
       "  <thead>\n",
       "    <tr style=\"text-align: right;\">\n",
       "      <th></th>\n",
       "      <th>question</th>\n",
       "      <th>subject</th>\n",
       "      <th>choices</th>\n",
       "      <th>answer</th>\n",
       "    </tr>\n",
       "  </thead>\n",
       "  <tbody>\n",
       "    <tr>\n",
       "      <th>0</th>\n",
       "      <td>Davis decided to kill Adams. He set out for Ad...</td>\n",
       "      <td></td>\n",
       "      <td>[Adams only., Brooks only., Case only., Adams ...</td>\n",
       "      <td>1</td>\n",
       "    </tr>\n",
       "    <tr>\n",
       "      <th>1</th>\n",
       "      <td>A state statute requires any person licensed t...</td>\n",
       "      <td></td>\n",
       "      <td>[guilty, because this is a public welfare offe...</td>\n",
       "      <td>3</td>\n",
       "    </tr>\n",
       "    <tr>\n",
       "      <th>2</th>\n",
       "      <td>Lender met Borrower on the street, demanded th...</td>\n",
       "      <td></td>\n",
       "      <td>[Yes, because Mann threatened to use deadly fo...</td>\n",
       "      <td>2</td>\n",
       "    </tr>\n",
       "    <tr>\n",
       "      <th>3</th>\n",
       "      <td>Peter sued Don for breach of contract. The cou...</td>\n",
       "      <td></td>\n",
       "      <td>[must permit Don to answer if he had objected ...</td>\n",
       "      <td>1</td>\n",
       "    </tr>\n",
       "    <tr>\n",
       "      <th>4</th>\n",
       "      <td>Ames had painted Bell's house under a contract...</td>\n",
       "      <td></td>\n",
       "      <td>[partial breach of contract only if Ames had p...</td>\n",
       "      <td>2</td>\n",
       "    </tr>\n",
       "  </tbody>\n",
       "</table>\n",
       "</div>"
      ],
      "text/plain": [
       "                                            question subject  \\\n",
       "0  Davis decided to kill Adams. He set out for Ad...           \n",
       "1  A state statute requires any person licensed t...           \n",
       "2  Lender met Borrower on the street, demanded th...           \n",
       "3  Peter sued Don for breach of contract. The cou...           \n",
       "4  Ames had painted Bell's house under a contract...           \n",
       "\n",
       "                                             choices  answer  \n",
       "0  [Adams only., Brooks only., Case only., Adams ...       1  \n",
       "1  [guilty, because this is a public welfare offe...       3  \n",
       "2  [Yes, because Mann threatened to use deadly fo...       2  \n",
       "3  [must permit Don to answer if he had objected ...       1  \n",
       "4  [partial breach of contract only if Ames had p...       2  "
      ]
     },
     "execution_count": 16,
     "metadata": {},
     "output_type": "execute_result"
    }
   ],
   "source": [
    "auxiliary_train.head()"
   ]
  },
  {
   "cell_type": "code",
   "execution_count": 10,
   "id": "9456338c",
   "metadata": {},
   "outputs": [],
   "source": [
    "tasks = ['anatomy', 'astronomy', 'college_biology', 'college_chemistry', 'prehistory']"
   ]
  },
  {
   "cell_type": "code",
   "execution_count": 13,
   "id": "856a17cb",
   "metadata": {},
   "outputs": [
    {
     "name": "stdout",
     "output_type": "stream",
     "text": [
      "(0, 4)\n",
      "(0, 4)\n",
      "(0, 4)\n",
      "(0, 4)\n",
      "(0, 4)\n"
     ]
    }
   ],
   "source": [
    "for task in tasks:\n",
    "  print(auxiliary_train[auxiliary_train['subject'] == task].shape)"
   ]
  },
  {
   "cell_type": "code",
   "execution_count": null,
   "id": "3a11880f",
   "metadata": {},
   "outputs": [],
   "source": []
  }
 ],
 "metadata": {
  "kernelspec": {
   "display_name": "env",
   "language": "python",
   "name": "python3"
  },
  "language_info": {
   "codemirror_mode": {
    "name": "ipython",
    "version": 3
   },
   "file_extension": ".py",
   "mimetype": "text/x-python",
   "name": "python",
   "nbconvert_exporter": "python",
   "pygments_lexer": "ipython3",
   "version": "3.12.2"
  }
 },
 "nbformat": 4,
 "nbformat_minor": 5
}
